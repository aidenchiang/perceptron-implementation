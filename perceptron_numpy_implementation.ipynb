{
  "cells": [
    {
      "cell_type": "markdown",
      "metadata": {
        "id": "rUOsXDWZl8Wm"
      },
      "source": [
        "## Imports"
      ]
    },
    {
      "cell_type": "code",
      "execution_count": 4,
      "metadata": {
        "id": "UZEjnhoPl8Wn"
      },
      "outputs": [],
      "source": [
        "import matplotlib.pyplot as plt\n",
        "import random\n",
        "%matplotlib inline"
      ]
    },
    {
      "cell_type": "markdown",
      "metadata": {
        "id": "o8AuuzdKl8Wo"
      },
      "source": [
        "## Loading the dataset"
      ]
    },
    {
      "cell_type": "markdown",
      "metadata": {
        "id": "oQKxlF0ongAx"
      },
      "source": [
        "Extra Code to be able to load the dataset.csv file from google drive."
      ]
    },
    {
      "cell_type": "code",
      "execution_count": 2,
      "metadata": {
        "colab": {
          "base_uri": "https://localhost:8080/"
        },
        "id": "OUWNjHmvnj7W",
        "outputId": "7178cd1c-042e-4d3d-c886-67b735fb151e"
      },
      "outputs": [],
      "source": [
        "# from google.colab import drive\n",
        "# drive.mount('/content/drive')\n",
        "# import os\n",
        "# GOOGLE_DRIVE_PATH = os.path.join('drive', 'My Drive', 'CS453/hw01')\n",
        "# print(os.listdir(GOOGLE_DRIVE_PATH))\n",
        "\n",
        "# If done correctly, this should print the files in the directory. You may need to edit some path names in the GOOGLE_DRIVE_PATH line to match your file path."
      ]
    },
    {
      "cell_type": "code",
      "execution_count": 3,
      "metadata": {
        "colab": {
          "base_uri": "https://localhost:8080/"
        },
        "id": "koOwsP5Jl8Wp",
        "outputId": "16ebda1e-34bc-4228-c8cb-cf70b2fb9232"
      },
      "outputs": [
        {
          "name": "stdout",
          "output_type": "stream",
          "text": [
            "100 100\n"
          ]
        }
      ],
      "source": [
        "X, y = [], []\n",
        "\n",
        "# The commented out line below is if you're using google colab, place the dataset file in the same path as the colab file, comment out the other with line.\n",
        "# with open(GOOGLE_DRIVE_PATH + '/dataset.csv', 'r') as f:\n",
        "with open('./dataset.csv', 'r') as f:\n",
        "    next(f)\n",
        "    for line in f:\n",
        "        line = line.strip()\n",
        "        if line:\n",
        "            values = line.split(',')\n",
        "        else:\n",
        "            continue\n",
        "        X.append([float(i) for i in values[:2]])\n",
        "        y.append(int(values[-1]))\n",
        "\n",
        "print(len(X), len(y))"
      ]
    },
    {
      "cell_type": "code",
      "execution_count": 5,
      "metadata": {
        "id": "N5LS2KUSl8Wq"
      },
      "outputs": [],
      "source": [
        "random.seed(0)\n",
        "\n",
        "idx = list(range(len(X)))\n",
        "random.shuffle(idx)\n",
        "\n",
        "X_train = [X[i] for i in idx[:80]]\n",
        "y_train = [y[i] for i in idx[:80]]\n",
        "X_test = [X[i] for i in idx[80:]]\n",
        "y_test = [y[i] for i in idx[80:]]"
      ]
    },
    {
      "cell_type": "code",
      "execution_count": 7,
      "metadata": {
        "colab": {
          "base_uri": "https://localhost:8080/",
          "height": 472
        },
        "id": "L6RRrNZYl8Wq",
        "outputId": "fc7df44a-baf2-4eb8-f800-26be62752720"
      },
      "outputs": [
        {
          "data": {
            "image/png": "[encoded data removed]",
            "text/plain": [
              "<Figure size 640x480 with 1 Axes>"
            ]
          },
          "metadata": {},
          "output_type": "display_data"
        }
      ],
      "source": [
        "plt.scatter([i[0] for idx, i in enumerate(X_train) if y_train[idx] == 0],\n",
        "            [i[1] for idx, i in enumerate(X_train) if y_train[idx] == 0],\n",
        "            label='class 0', marker='o')\n",
        "\n",
        "plt.scatter([i[0] for idx, i in enumerate(X_train) if y_train[idx] == 1],\n",
        "            [i[1] for idx, i in enumerate(X_train) if y_train[idx] == 1],\n",
        "            label='class 1', marker='s')\n",
        "\n",
        "plt.title('Training set')\n",
        "plt.xlabel('feature 1')\n",
        "plt.ylabel('feature 2')\n",
        "plt.xlim([0.0, 7])\n",
        "plt.ylim([-0.8, 0.8])\n",
        "plt.legend()\n",
        "plt.show()"
      ]
    },
    {
      "cell_type": "markdown",
      "metadata": {
        "id": "Lb6oVrT5l8Wr"
      },
      "source": [
        "## Defining the Perceptron model"
      ]
    },
    {
      "cell_type": "code",
      "execution_count": 8,
      "metadata": {
        "id": "2Xm3ipr-l8Wr"
      },
      "outputs": [],
      "source": [
        "class Perceptron():\n",
        "    def __init__(self, num_features):\n",
        "        self.num_features = num_features\n",
        "        self.weights = [0] * num_features\n",
        "        self.bias = 0\n",
        "\n",
        "    def forward(self, x):\n",
        "        # Iterates through each row of x, give each row the name feature.\n",
        "        # For each row, we compute the dot multiplication between the feature row and the weight column., we then add the bias on to the\n",
        "        # scalar produced by the dot multiplication.\n",
        "        linear = [(sum([feature[i] * self.weights[i] for i in range(len(feature))]) + self.bias) for feature in x]\n",
        "\n",
        "        # sign function that gives 0 or 1 depending on the value.\n",
        "        prediction = [1 if i > 0 else 0 for i in linear]\n",
        "        return prediction\n",
        "\n",
        "    def backward(self, x, y):\n",
        "        # Makes a prediction using our current model\n",
        "        prediction = self.forward(x)\n",
        "\n",
        "        # Calculates error by subtracting the prediction value from the actual value\n",
        "        error = [yActual - yPred for yPred, yActual in zip(prediction, y)]\n",
        "        return error\n",
        "\n",
        "    def train(self, x, y, epochs):\n",
        "        for e in range(epochs):\n",
        "\n",
        "            for i in range(len(y)):\n",
        "                # Pass in a list of our feature as that is what our forward method accepts\n",
        "                errors = self.backward([x[i]], [y[i]])\n",
        "\n",
        "                # Calculating the weights\n",
        "                self.weights = [self.weights[j] + (errors[0] * x[i][j]) for j in range(len(self.weights))]\n",
        "                self.bias += errors[0]\n",
        "\n",
        "    def evaluate(self, x, y):\n",
        "        predictions = self.forward(x)\n",
        "\n",
        "        # Counts number correct\n",
        "        accuracy = [prediction == actual for prediction, actual in zip(predictions, y)]\n",
        "\n",
        "        # How many correct out of how many total predictions were made.\n",
        "        accuracy = sum(accuracy) / len(y)\n",
        "        return accuracy"
      ]
    },
    {
      "cell_type": "markdown",
      "metadata": {
        "id": "Y_mgDDByl8Wr"
      },
      "source": [
        "## Training the Perceptron"
      ]
    },
    {
      "cell_type": "code",
      "execution_count": 9,
      "metadata": {
        "colab": {
          "base_uri": "https://localhost:8080/"
        },
        "id": "2GKY1kxFl8Wr",
        "outputId": "024d0557-a26a-4f26-8db3-d1f4794fea16"
      },
      "outputs": [
        {
          "name": "stdout",
          "output_type": "stream",
          "text": [
            "[0.49999999999999956, -0.4000000000000002]\n",
            "-1\n"
          ]
        }
      ],
      "source": [
        "ppn = Perceptron(num_features=2)\n",
        "\n",
        "ppn.train(X_train, y_train, epochs=5)\n",
        "\n",
        "print(ppn.weights)\n",
        "print(ppn.bias)\n",
        "\n",
        "\n"
      ]
    },
    {
      "cell_type": "markdown",
      "metadata": {
        "id": "juTx-QoJl8Ws"
      },
      "source": [
        "## Evaluating the model"
      ]
    },
    {
      "cell_type": "code",
      "execution_count": 10,
      "metadata": {
        "colab": {
          "base_uri": "https://localhost:8080/"
        },
        "id": "Y3HFCzOOl8Ws",
        "outputId": "23610eb5-3525-4b91-b818-9b93fa71a908"
      },
      "outputs": [
        {
          "name": "stdout",
          "output_type": "stream",
          "text": [
            "Train set accuracy: 100.00%\n"
          ]
        }
      ],
      "source": [
        "train_acc = ppn.evaluate(X_train, y_train)\n",
        "print('Train set accuracy: %.2f%%' % (train_acc*100))"
      ]
    },
    {
      "cell_type": "code",
      "execution_count": 11,
      "metadata": {
        "colab": {
          "base_uri": "https://localhost:8080/"
        },
        "id": "ZaFzVpHrl8Ws",
        "outputId": "dd0f94cd-a964-4217-c0d4-fb8c039c4251"
      },
      "outputs": [
        {
          "name": "stdout",
          "output_type": "stream",
          "text": [
            "Test set accuracy: 100.00%\n"
          ]
        }
      ],
      "source": [
        "test_acc = ppn.evaluate(X_test, y_test)\n",
        "print('Test set accuracy: %.2f%%' % (test_acc*100))"
      ]
    },
    {
      "cell_type": "markdown",
      "metadata": {
        "id": "dlLU2gYOl8Ws"
      },
      "source": [
        "## Decision Boundary"
      ]
    },
    {
      "cell_type": "code",
      "execution_count": 12,
      "metadata": {
        "colab": {
          "base_uri": "https://localhost:8080/",
          "height": 487
        },
        "id": "EJIVuPZrl8Wt",
        "outputId": "4e0fc415-f68e-49fd-91d7-7efc7802c334"
      },
      "outputs": [
        {
          "data": {
            "image/png": "[encoded data removed]",
            "text/plain": [
              "<Figure size 1250x500 with 3 Axes>"
            ]
          },
          "metadata": {},
          "output_type": "display_data"
        }
      ],
      "source": [
        "##########################\n",
        "### 2D Decision Boundary\n",
        "##########################\n",
        "\n",
        "weights = ppn.weights\n",
        "bias = ppn.bias\n",
        "\n",
        "fig, ax = plt.subplots(1, 2, sharex=True, figsize=(12.5, 5))\n",
        "\n",
        "# Our equation to solve for the decision boundary is:\n",
        "# w * x + bias = 0\n",
        "# => [w1, w2] * [x, y] + bias = 0\n",
        "# => (w1 * x) + (w2 * y) + bias = 0\n",
        "# => (w1 * x) + bias = - (w2 * y)\n",
        "# => -1 * (1 / w2) * ((w1 * x) + bias) = y\n",
        "# = > y = (-1) * (1 / weights[1]) * ((weights[0] * x) + bias[0])\n",
        "\n",
        "x_cords = [-6, 12]\n",
        "y_cords = [(-1) * (1 / weights[1]) * ((weights[0] * x) + bias) for x in x_cords]\n",
        "\n",
        "# Graphing the lines based off the coordinates\n",
        "ax[0].plot(x_cords, y_cords, 'red')\n",
        "ax[1].plot(x_cords, y_cords, 'red')\n",
        "\n",
        "# Showing scatterplot of trainig data\n",
        "ax[0].scatter([i[0] for idx, i in enumerate(X_train) if y_train[idx] == 0],\n",
        "            [i[1] for idx, i in enumerate(X_train) if y_train[idx] == 0],\n",
        "            label='class 0', marker='o')\n",
        "\n",
        "ax[0].scatter([i[0] for idx, i in enumerate(X_train) if y_train[idx] == 1],\n",
        "            [i[1] for idx, i in enumerate(X_train) if y_train[idx] == 1],\n",
        "            label='class 1', marker='s')\n",
        "\n",
        "# Showing scatterplot of testing data\n",
        "ax[1].scatter([i[0] for idx, i in enumerate(X_test) if y_test[idx] == 0],\n",
        "            [i[1] for idx, i in enumerate(X_test) if y_test[idx] == 0],\n",
        "            label='class 0', marker='o')\n",
        "\n",
        "ax[1].scatter([i[0] for idx, i in enumerate(X_test) if y_test[idx] == 1],\n",
        "            [i[1] for idx, i in enumerate(X_test) if y_test[idx] == 1],\n",
        "            label='class 1', marker='s')\n",
        "\n",
        "# Setting boundries of our plot\n",
        "ax[0].set_ylim([-1, 1])\n",
        "ax[1].set_ylim([-1, 1])\n",
        "ax[0].set_xlim([0, 7])\n",
        "ax[1].set_xlim([0, 7])\n",
        "\n",
        "# Titles for the plot\n",
        "ax[0].title.set_text('Training Set')\n",
        "ax[1].title.set_text('Test Set')\n",
        "\n",
        "# X axis and Y axis labels\n",
        "fig.add_subplot(111, frameon=False)\n",
        "plt.tick_params(labelcolor='none', top=False, bottom=False, left=False, right=False)\n",
        "plt.grid(False)\n",
        "plt.xlabel(\"Feature 1\")\n",
        "plt.ylabel(\"Feature 2\")\n",
        "\n",
        "\n",
        "# Displaying the graphs\n",
        "ax[0].legend()\n",
        "ax[1].legend()\n",
        "plt.show()"
      ]
    }
  ],
  "metadata": {
    "colab": {
      "provenance": []
    },
    "kernelspec": {
      "display_name": "Python 3",
      "language": "python",
      "name": "python3"
    },
    "language_info": {
      "codemirror_mode": {
        "name": "ipython",
        "version": 3
      },
      "file_extension": ".py",
      "mimetype": "text/x-python",
      "name": "python",
      "nbconvert_exporter": "python",
      "pygments_lexer": "ipython3",
      "version": "3.11.5"
    },
    "toc": {
      "nav_menu": {},
      "number_sections": true,
      "sideBar": true,
      "skip_h1_title": false,
      "title_cell": "Table of Contents",
      "title_sidebar": "Contents",
      "toc_cell": false,
      "toc_position": {},
      "toc_section_display": true,
      "toc_window_display": false
    }
  },
  "nbformat": 4,
  "nbformat_minor": 0
}
